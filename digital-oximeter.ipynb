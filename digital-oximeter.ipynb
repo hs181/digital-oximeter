{
 "cells": [
  {
   "cell_type": "code",
   "execution_count": null,
   "id": "0706bb8a",
   "metadata": {},
   "outputs": [],
   "source": [
    "import cv2\n",
    "import numpy as np\n",
    "import pandas as pd\n",
    "import matplotlib.pyplot as plt\n",
    "from sklearn.linear_model import LinearRegression\n",
    "global new_array\n",
    "global output\n",
    "output=np.array([1,2,3]) #output for trained examples\n",
    "new_array=np.array([])\n",
    "i=0\n",
    "names=([r\"1.mp4\"],[r\"2.mp4\"],[r\"3.mp4\"]) #names of videos in raw text form\n",
    "while (i<3):    \n",
    "    vidcap = cv2.VideoCapture(names[i][0])\n",
    "    def getFrame(sec):\n",
    "        global new_array\n",
    "        vidcap.set(cv2.CAP_PROP_POS_MSEC,sec*1000) #to make frame rate \n",
    "        hasFrames,image = vidcap.read() \n",
    "        if hasFrames:\n",
    "            cv2.imwrite(\"frame \"+str(i)+str(sec)+\" sec.jpg\", image) # save frame as JPG file\n",
    "            img=cv2.imread(\"frame \"+str(i)+str(sec)+\" sec.jpg\") \n",
    "            new_image=cv2.resize(img,(200,200)) #decreasing pixels\n",
    "            cv2.imwrite(\"frame_new \"+str(i)+str(sec)+\" sec.jpg\", new_image) #save new frame as JPG file\n",
    "            matrix=np.asarray(new_image)\n",
    "            #display(matrix.shape)\n",
    "            matrix.resize(1,matrix.size)\n",
    "            #display(matrix.shape)\n",
    "            new_array=np.append(new_array,matrix)\n",
    "        return hasFrames\n",
    "    sec = 0\n",
    "    frameRate = 0.5 #it will capture image in each 0.5 second\n",
    "    success = getFrame(sec)\n",
    "    while success: #moving frame by frame for each video\n",
    "        sec = sec + frameRate \n",
    "        sec = round(sec, 2)\n",
    "        success = getFrame(sec)\n",
    "    vidcap.release()\n",
    "    cv2.destroyAllWindows()                              \n",
    "    i=i+1 #moving to next video                         \n",
    "new_array=new_array.reshape(2640000,3) #reshaping row vector into examples*features\n",
    "new_array=np.transpose(new_array) #converting to compatible column vector\n",
    "display(new_array.shape)\n",
    "model = LinearRegression().fit(new_array, output)\n",
    "r_sq = model.score(new_array, output)\n",
    "print('coefficient of determination:', r_sq)\n",
    "print('intercept:', model.intercept_)\n",
    "print('slope:', model.coef_)\n",
    "y_pred = model.predict(new_array)\n",
    "print('predicted response:', y_pred, sep='\\n')"
   ]
  }
 ],
 "metadata": {
  "kernelspec": {
   "display_name": "Python 3",
   "language": "python",
   "name": "python3"
  },
  "language_info": {
   "codemirror_mode": {
    "name": "ipython",
    "version": 3
   },
   "file_extension": ".py",
   "mimetype": "text/x-python",
   "name": "python",
   "nbconvert_exporter": "python",
   "pygments_lexer": "ipython3",
   "version": "3.9.5"
  }
 },
 "nbformat": 4,
 "nbformat_minor": 5
}
